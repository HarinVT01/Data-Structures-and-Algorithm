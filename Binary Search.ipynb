{
 "cells": [
  {
   "cell_type": "markdown",
   "id": "13771ec5",
   "metadata": {},
   "source": [
    "# Iterative method"
   ]
  },
  {
   "cell_type": "code",
   "execution_count": 20,
   "id": "459b54b1",
   "metadata": {},
   "outputs": [],
   "source": [
    "def binary_search(nums,n,target):\n",
    "    l=0\n",
    "    h=n-1\n",
    "    while(l<=h):\n",
    "        mid=(l+h)//2\n",
    "        if(nums[mid]==target):\n",
    "            return mid\n",
    "        elif(nums[mid]>target):\n",
    "            h=mid-1\n",
    "        else:\n",
    "            l=mid+1\n",
    "    return -1"
   ]
  },
  {
   "cell_type": "code",
   "execution_count": 21,
   "id": "e32abe66",
   "metadata": {},
   "outputs": [
    {
     "name": "stdout",
     "output_type": "stream",
     "text": [
      "Element found at index 0 and the element is -1\n"
     ]
    }
   ],
   "source": [
    "nums = [-1,0,3,5,9,12]\n",
    "target=-1\n",
    "pos=binary_search(nums,len(nums),target)\n",
    "if(pos==-1):\n",
    "    print(\"Element not found\")\n",
    "else:\n",
    "    print(\"Element found at index\",pos,\"and the element is\",nums[pos])"
   ]
  },
  {
   "cell_type": "markdown",
   "id": "2a09a1f4",
   "metadata": {},
   "source": [
    "# Recursive Method"
   ]
  },
  {
   "cell_type": "code",
   "execution_count": 35,
   "id": "fd5e3a05",
   "metadata": {},
   "outputs": [],
   "source": [
    "def binary_search(nums,l,h,target):\n",
    "    if(l>h):\n",
    "        return -1\n",
    "    mid=(l+h)//2\n",
    "    if(nums[mid]==target):\n",
    "        return mid\n",
    "    elif(nums[mid]>target):\n",
    "        return binary_search(nums,l,mid-1,target)\n",
    "    else:\n",
    "        return binary_search(nums,mid+1,h,target)"
   ]
  },
  {
   "cell_type": "code",
   "execution_count": 36,
   "id": "074083ee",
   "metadata": {},
   "outputs": [
    {
     "name": "stdout",
     "output_type": "stream",
     "text": [
      "Element found at index 3 and the element is 5\n"
     ]
    }
   ],
   "source": [
    "nums = [-1,0,3,5,9,12]\n",
    "target=5\n",
    "pos=binary_search(nums,0,len(nums)-1,target)\n",
    "if(pos==-1):\n",
    "    print(\"Element not found\")\n",
    "else:\n",
    "    print(\"Element found at index\",pos,\"and the element is\",nums[pos])"
   ]
  },
  {
   "cell_type": "code",
   "execution_count": null,
   "id": "0bfdad50",
   "metadata": {},
   "outputs": [],
   "source": []
  }
 ],
 "metadata": {
  "kernelspec": {
   "display_name": "Python 3",
   "language": "python",
   "name": "python3"
  },
  "language_info": {
   "codemirror_mode": {
    "name": "ipython",
    "version": 3
   },
   "file_extension": ".py",
   "mimetype": "text/x-python",
   "name": "python",
   "nbconvert_exporter": "python",
   "pygments_lexer": "ipython3",
   "version": "3.8.8"
  }
 },
 "nbformat": 4,
 "nbformat_minor": 5
}
