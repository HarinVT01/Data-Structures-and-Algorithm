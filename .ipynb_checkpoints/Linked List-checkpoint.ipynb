{
 "cells": [
  {
   "cell_type": "markdown",
   "id": "78e9e096",
   "metadata": {},
   "source": [
    "# Insertion at the end"
   ]
  },
  {
   "cell_type": "code",
   "execution_count": 46,
   "id": "31a7e390",
   "metadata": {},
   "outputs": [],
   "source": [
    "class Node:\n",
    "    def __init__(self,data):\n",
    "        self.data=data\n",
    "        self.next=None\n",
    "        \n",
    "class LinkedList:\n",
    "    def __init__(self):\n",
    "        self.head=None\n",
    "        \n",
    "    def insert_at_end(self,data):\n",
    "        newnode=Node(data)\n",
    "        if self.head is None:\n",
    "            self.head=newnode\n",
    "        else:\n",
    "            current_node=self.head\n",
    "            while current_node.next is not None:\n",
    "                current_node=current_node.next\n",
    "            current_node.next=newnode\n",
    "    \n",
    "    def print(self):\n",
    "        current_node=self.head\n",
    "        while current_node is not None:\n",
    "            print(current_node.data,\"--> \",end=\"\")\n",
    "            current_node=current_node.next\n",
    "        "
   ]
  },
  {
   "cell_type": "code",
   "execution_count": 47,
   "id": "c240e666",
   "metadata": {},
   "outputs": [
    {
     "name": "stdout",
     "output_type": "stream",
     "text": [
      "10 --> 11 --> 12 --> "
     ]
    }
   ],
   "source": [
    "L=LinkedList()\n",
    "L.insert_at_end(10)\n",
    "L.insert_at_end(11)\n",
    "L.insert_at_end(12)\n",
    "L.print()"
   ]
  },
  {
   "cell_type": "markdown",
   "id": "e544f1fa",
   "metadata": {},
   "source": [
    "# Insertion at the beginning "
   ]
  },
  {
   "cell_type": "code",
   "execution_count": 48,
   "id": "776b50a4",
   "metadata": {},
   "outputs": [],
   "source": [
    "class Node:\n",
    "    def __init__(self,data):\n",
    "        self.data=data\n",
    "        self.next=None\n",
    "        \n",
    "class LinkedList:\n",
    "    def __init__(self):\n",
    "        self.head=None\n",
    "        \n",
    "    def insert_at_start(self,data):\n",
    "        newnode=Node(data)\n",
    "        if self.head is None:\n",
    "            self.head=newnode\n",
    "        else:\n",
    "            newnode.next=self.head\n",
    "            self.head=newnode\n",
    "    \n",
    "    def print(self):\n",
    "        current_node=self.head\n",
    "        while current_node is not None:\n",
    "            print(current_node.data,\"--> \",end=\"\")\n",
    "            current_node=current_node.next\n",
    "        "
   ]
  },
  {
   "cell_type": "code",
   "execution_count": 49,
   "id": "8e56c8ce",
   "metadata": {},
   "outputs": [
    {
     "name": "stdout",
     "output_type": "stream",
     "text": [
      "12 --> 11 --> 10 --> "
     ]
    }
   ],
   "source": [
    "L=LinkedList()\n",
    "L.insert_at_start(10)\n",
    "L.insert_at_start(11)\n",
    "L.insert_at_start(12)\n",
    "L.print()"
   ]
  },
  {
   "cell_type": "markdown",
   "id": "5ce47a81",
   "metadata": {},
   "source": [
    "# Insertion at the middle"
   ]
  },
  {
   "cell_type": "code",
   "execution_count": 78,
   "id": "6cd514a3",
   "metadata": {},
   "outputs": [],
   "source": [
    "class Node:\n",
    "    def __init__(self,data):\n",
    "        self.data=data\n",
    "        self.next=None\n",
    "        \n",
    "class LinkedList:\n",
    "    def __init__(self):\n",
    "        self.head=None\n",
    "        \n",
    "    def length(self):\n",
    "        count=0\n",
    "        current_node=self.head\n",
    "        while current_node is not None:\n",
    "            count+=1\n",
    "            current_node=current_node.next\n",
    "        return count\n",
    "        \n",
    "    def insert_at_start(self,data):\n",
    "        newnode=Node(data)\n",
    "        if self.head is None:\n",
    "            self.head=newnode\n",
    "        else:\n",
    "            newnode.next=self.head\n",
    "            self.head=newnode\n",
    "            \n",
    "    def insert_at_end(self,data):\n",
    "        newnode=Node(data)\n",
    "        if self.head is None:\n",
    "            self.head=newnode\n",
    "        else:\n",
    "            current_node=self.head\n",
    "            while current_node.next is not None:\n",
    "                current_node=current_node.next\n",
    "            current_node.next=newnode\n",
    "    \n",
    "    def insert_at_middle(self,data,pos):\n",
    "        if pos<0 or pos>self.length():\n",
    "            raise Exception(\"Invaild position\")\n",
    "        else:\n",
    "            if pos==0:\n",
    "                self.insert_at_start(data)\n",
    "            elif pos==self.length():\n",
    "                self.insert_at_end(data)\n",
    "            else:\n",
    "                newnode=Node(data)\n",
    "                count=0\n",
    "                current_node=self.head\n",
    "                while current_node is not None:\n",
    "                    if count==pos-1:\n",
    "                        newnode.next=current_node.next\n",
    "                        current_node.next=newnode\n",
    "                        break\n",
    "                    count+=1\n",
    "                    current_node=current_node.next  \n",
    "    \n",
    "    def print(self):\n",
    "        current_node=self.head\n",
    "        while current_node is not None:\n",
    "            print(current_node.data,\"--> \",end=\"\")\n",
    "            current_node=current_node.next\n",
    "        "
   ]
  },
  {
   "cell_type": "code",
   "execution_count": 80,
   "id": "4cad9a52",
   "metadata": {},
   "outputs": [
    {
     "name": "stdout",
     "output_type": "stream",
     "text": [
      "14 --> 11 --> 10 --> 12 --> 13 --> \n",
      "\n",
      "14 --> 11 --> 10 --> 15 --> 12 --> 13 --> \n",
      "\n",
      "14 --> 11 --> 10 --> 15 --> 12 --> 16 --> 13 --> \n",
      "\n"
     ]
    }
   ],
   "source": [
    "L=LinkedList()\n",
    "L.insert_at_end(10)\n",
    "L.insert_at_start(11)\n",
    "L.insert_at_end(12)\n",
    "L.insert_at_end(13)\n",
    "L.insert_at_start(14)\n",
    "L.print()\n",
    "print(\"\\n\")\n",
    "L.insert_at_middle(15,3)\n",
    "L.print()\n",
    "print(\"\\n\")\n",
    "L.insert_at_middle(16,5)\n",
    "L.print()\n",
    "print(\"\\n\")"
   ]
  },
  {
   "cell_type": "markdown",
   "id": "a6b61908",
   "metadata": {},
   "source": [
    "# Deletion at beginning"
   ]
  },
  {
   "cell_type": "code",
   "execution_count": 81,
   "id": "b2d69d4b",
   "metadata": {},
   "outputs": [],
   "source": [
    "class Node:\n",
    "    def __init__(self,data):\n",
    "        self.data=data\n",
    "        self.next=None\n",
    "        \n",
    "class LinkedList:\n",
    "    def __init__(self):\n",
    "        self.head=None\n",
    "        \n",
    "    def length(self):\n",
    "        count=0\n",
    "        current_node=self.head\n",
    "        while current_node is not None:\n",
    "            count+=1\n",
    "            current_node=current_node.next\n",
    "        return count\n",
    "        \n",
    "    def insert_at_start(self,data):\n",
    "        newnode=Node(data)\n",
    "        if self.head is None:\n",
    "            self.head=newnode\n",
    "        else:\n",
    "            newnode.next=self.head\n",
    "            self.head=newnode\n",
    "            \n",
    "    def insert_at_end(self,data):\n",
    "        newnode=Node(data)\n",
    "        if self.head is None:\n",
    "            self.head=newnode\n",
    "        else:\n",
    "            current_node=self.head\n",
    "            while current_node.next is not None:\n",
    "                current_node=current_node.next\n",
    "            current_node.next=newnode\n",
    "    \n",
    "    def insert_at_middle(self,data,pos):\n",
    "        if pos<0 or pos>self.length():\n",
    "            raise Exception(\"Invaild position\")\n",
    "        else:\n",
    "            if pos==0:\n",
    "                self.insert_at_start(data)\n",
    "            elif pos==self.length():\n",
    "                self.insert_at_end(data)\n",
    "            else:\n",
    "                newnode=Node(data)\n",
    "                count=0\n",
    "                current_node=self.head\n",
    "                while current_node is not None:\n",
    "                    if count==pos-1:\n",
    "                        newnode.next=current_node.next\n",
    "                        current_node.next=newnode\n",
    "                        break\n",
    "                    count+=1\n",
    "                    current_node=current_node.next\n",
    "    \n",
    "    def delete_at_start(self):\n",
    "        self.head=self.head.next\n",
    "    \n",
    "    def print(self):\n",
    "        current_node=self.head\n",
    "        while current_node is not None:\n",
    "            print(current_node.data,\"--> \",end=\"\")\n",
    "            current_node=current_node.next\n",
    "        "
   ]
  },
  {
   "cell_type": "code",
   "execution_count": 82,
   "id": "24678257",
   "metadata": {},
   "outputs": [
    {
     "name": "stdout",
     "output_type": "stream",
     "text": [
      "14 --> 11 --> 10 --> 12 --> 13 --> \n",
      "\n",
      "11 --> 10 --> 12 --> 13 --> \n",
      "\n"
     ]
    }
   ],
   "source": [
    "L=LinkedList()\n",
    "L.insert_at_end(10)\n",
    "L.insert_at_start(11)\n",
    "L.insert_at_end(12)\n",
    "L.insert_at_end(13)\n",
    "L.insert_at_start(14)\n",
    "L.print()\n",
    "print(\"\\n\")\n",
    "L.delete_at_start()\n",
    "L.print()\n",
    "print(\"\\n\")"
   ]
  },
  {
   "cell_type": "markdown",
   "id": "035db74d",
   "metadata": {},
   "source": [
    "# Deletion at end"
   ]
  },
  {
   "cell_type": "code",
   "execution_count": null,
   "id": "1df272db",
   "metadata": {},
   "outputs": [],
   "source": [
    "class Node:\n",
    "    def __init__(self,data):\n",
    "        self.data=data\n",
    "        self.next=None\n",
    "        \n",
    "class LinkedList:\n",
    "    def __init__(self):\n",
    "        self.head=None\n",
    "        \n",
    "    def length(self):\n",
    "        count=0\n",
    "        current_node=self.head\n",
    "        while current_node is not None:\n",
    "            count+=1\n",
    "            current_node=current_node.next\n",
    "        return count\n",
    "        \n",
    "    def insert_at_start(self,data):\n",
    "        newnode=Node(data)\n",
    "        if self.head is None:\n",
    "            self.head=newnode\n",
    "        else:\n",
    "            newnode.next=self.head\n",
    "            self.head=newnode\n",
    "            \n",
    "    def insert_at_end(self,data):\n",
    "        newnode=Node(data)\n",
    "        if self.head is None:\n",
    "            self.head=newnode\n",
    "        else:\n",
    "            current_node=self.head\n",
    "            while current_node.next is not None:\n",
    "                current_node=current_node.next\n",
    "            current_node.next=newnode\n",
    "    \n",
    "    def insert_at_middle(self,data,pos):\n",
    "        if pos<0 or pos>self.length():\n",
    "            raise Exception(\"Invaild position\")\n",
    "        else:\n",
    "            if pos==0:\n",
    "                self.insert_at_start(data)\n",
    "            elif pos==self.length():\n",
    "                self.insert_at_end(data)\n",
    "            else:\n",
    "                newnode=Node(data)\n",
    "                count=0\n",
    "                current_node=self.head\n",
    "                while current_node is not None:\n",
    "                    if count==pos-1:\n",
    "                        newnode.next=current_node.next\n",
    "                        current_node.next=newnode\n",
    "                        break\n",
    "                    count+=1\n",
    "                    current_node=current_node.next\n",
    "    \n",
    "    def delete_at_end(self):\n",
    "        current_node=self.head\n",
    "        while current_node is not None:\n",
    "            print(current_node.data,\"--> \",end=\"\")\n",
    "            current_node=current_node.next\n",
    "    \n",
    "    def print(self):\n",
    "        current_node=self.head\n",
    "        while current_node is not None:\n",
    "            print(current_node.data,\"--> \",end=\"\")\n",
    "            current_node=current_node.next\n",
    "        "
   ]
  },
  {
   "cell_type": "code",
   "execution_count": null,
   "id": "7082f16f",
   "metadata": {},
   "outputs": [],
   "source": [
    "L=LinkedList()\n",
    "L.insert_at_end(10)\n",
    "L.insert_at_start(11)\n",
    "L.insert_at_end(12)\n",
    "L.insert_at_end(13)\n",
    "L.insert_at_start(14)\n",
    "L.print()\n",
    "print(\"\\n\")\n",
    "L.delete_at_end()\n",
    "L.print()\n",
    "print(\"\\n\")"
   ]
  }
 ],
 "metadata": {
  "kernelspec": {
   "display_name": "Python 3",
   "language": "python",
   "name": "python3"
  },
  "language_info": {
   "codemirror_mode": {
    "name": "ipython",
    "version": 3
   },
   "file_extension": ".py",
   "mimetype": "text/x-python",
   "name": "python",
   "nbconvert_exporter": "python",
   "pygments_lexer": "ipython3",
   "version": "3.8.8"
  }
 },
 "nbformat": 4,
 "nbformat_minor": 5
}
